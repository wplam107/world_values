{
 "cells": [
  {
   "cell_type": "code",
   "execution_count": 1,
   "metadata": {},
   "outputs": [],
   "source": [
    "import numpy as np\n",
    "import pandas as pd\n",
    "import pickle\n",
    "import networkx as nx\n",
    "import plotly.graph_objects as go\n",
    "\n",
    "from itertools import combinations"
   ]
  },
  {
   "cell_type": "code",
   "execution_count": 2,
   "metadata": {},
   "outputs": [],
   "source": [
    "with open('wv7_childhood_df.p', 'rb') as f:\n",
    "    df = pickle.load(f)"
   ]
  },
  {
   "cell_type": "code",
   "execution_count": 3,
   "metadata": {},
   "outputs": [
    {
     "data": {
      "text/html": [
       "<div>\n",
       "<style scoped>\n",
       "    .dataframe tbody tr th:only-of-type {\n",
       "        vertical-align: middle;\n",
       "    }\n",
       "\n",
       "    .dataframe tbody tr th {\n",
       "        vertical-align: top;\n",
       "    }\n",
       "\n",
       "    .dataframe thead th {\n",
       "        text-align: right;\n",
       "    }\n",
       "</style>\n",
       "<table border=\"1\" class=\"dataframe\">\n",
       "  <thead>\n",
       "    <tr style=\"text-align: right;\">\n",
       "      <th></th>\n",
       "      <th>country</th>\n",
       "      <th>manners</th>\n",
       "      <th>independence</th>\n",
       "      <th>hard work</th>\n",
       "      <th>responsibility</th>\n",
       "      <th>imagination</th>\n",
       "      <th>tolerance</th>\n",
       "      <th>thrift</th>\n",
       "      <th>determination</th>\n",
       "      <th>faith</th>\n",
       "      <th>unselfishness</th>\n",
       "      <th>obedience</th>\n",
       "      <th>traits</th>\n",
       "    </tr>\n",
       "  </thead>\n",
       "  <tbody>\n",
       "    <tr>\n",
       "      <th>0</th>\n",
       "      <td>AND</td>\n",
       "      <td>True</td>\n",
       "      <td>True</td>\n",
       "      <td>False</td>\n",
       "      <td>True</td>\n",
       "      <td>True</td>\n",
       "      <td>False</td>\n",
       "      <td>False</td>\n",
       "      <td>False</td>\n",
       "      <td>False</td>\n",
       "      <td>False</td>\n",
       "      <td>True</td>\n",
       "      <td>[manners, independence, responsibility, imagin...</td>\n",
       "    </tr>\n",
       "    <tr>\n",
       "      <th>1</th>\n",
       "      <td>AND</td>\n",
       "      <td>True</td>\n",
       "      <td>False</td>\n",
       "      <td>True</td>\n",
       "      <td>True</td>\n",
       "      <td>False</td>\n",
       "      <td>True</td>\n",
       "      <td>False</td>\n",
       "      <td>False</td>\n",
       "      <td>False</td>\n",
       "      <td>False</td>\n",
       "      <td>True</td>\n",
       "      <td>[manners, hard work, responsibility, tolerance...</td>\n",
       "    </tr>\n",
       "    <tr>\n",
       "      <th>2</th>\n",
       "      <td>AND</td>\n",
       "      <td>False</td>\n",
       "      <td>True</td>\n",
       "      <td>False</td>\n",
       "      <td>True</td>\n",
       "      <td>True</td>\n",
       "      <td>True</td>\n",
       "      <td>False</td>\n",
       "      <td>True</td>\n",
       "      <td>False</td>\n",
       "      <td>False</td>\n",
       "      <td>False</td>\n",
       "      <td>[independence, responsibility, imagination, to...</td>\n",
       "    </tr>\n",
       "  </tbody>\n",
       "</table>\n",
       "</div>"
      ],
      "text/plain": [
       "  country  manners  independence  hard work  responsibility  imagination  \\\n",
       "0     AND     True          True      False            True         True   \n",
       "1     AND     True         False       True            True        False   \n",
       "2     AND    False          True      False            True         True   \n",
       "\n",
       "   tolerance  thrift  determination  faith  unselfishness  obedience  \\\n",
       "0      False   False          False  False          False       True   \n",
       "1       True   False          False  False          False       True   \n",
       "2       True   False           True  False          False      False   \n",
       "\n",
       "                                              traits  \n",
       "0  [manners, independence, responsibility, imagin...  \n",
       "1  [manners, hard work, responsibility, tolerance...  \n",
       "2  [independence, responsibility, imagination, to...  "
      ]
     },
     "execution_count": 3,
     "metadata": {},
     "output_type": "execute_result"
    }
   ],
   "source": [
    "df.head(3)"
   ]
  },
  {
   "cell_type": "code",
   "execution_count": 42,
   "metadata": {},
   "outputs": [],
   "source": [
    "df.drop(columns='traits', inplace=True)"
   ]
  },
  {
   "cell_type": "code",
   "execution_count": 43,
   "metadata": {},
   "outputs": [],
   "source": [
    "traits = [ trait for trait in df.columns if trait not in ['country', 'traits'] ]"
   ]
  },
  {
   "cell_type": "code",
   "execution_count": 44,
   "metadata": {},
   "outputs": [],
   "source": [
    "def select_country(df, country='ALL'):\n",
    "    if country == 'ALL':\n",
    "        return df\n",
    "    else:\n",
    "        assert country in df['country'].unique()\n",
    "        return df.loc[df['country'] == country]"
   ]
  },
  {
   "cell_type": "code",
   "execution_count": 45,
   "metadata": {},
   "outputs": [],
   "source": [
    "def select_traits(df, selected_traits=[]):\n",
    "    temp = df\n",
    "    for trait in selected_traits:\n",
    "        temp = temp.loc[temp[trait] == True]\n",
    "    return temp"
   ]
  },
  {
   "cell_type": "code",
   "execution_count": 46,
   "metadata": {},
   "outputs": [],
   "source": [
    "def build_trait_counts(df, traits):\n",
    "    trait_counts = { trait: sum(df[trait]) for trait in traits }\n",
    "    trait_counts['total'] = len(df)\n",
    "    return trait_counts"
   ]
  },
  {
   "cell_type": "code",
   "execution_count": 47,
   "metadata": {},
   "outputs": [],
   "source": [
    "def apriori(df, selected_traits=[], country='ALL'):\n",
    "    all_traits = [\n",
    "        'manners',\n",
    "        'independence',\n",
    "        'hard work',\n",
    "        'responsibility',\n",
    "        'imagination',\n",
    "        'tolerance',\n",
    "        'thrift',\n",
    "        'determination',\n",
    "        'faith',\n",
    "        'unselfishness',\n",
    "        'obedience'\n",
    "    ]\n",
    "    \n",
    "    df = select_country(df, country)\n",
    "    total_obs = len(df)\n",
    "    st_df = select_traits(df, selected_traits).drop(columns=selected_traits)\n",
    "    trait_counts = build_trait_counts(st_df, all_traits)\n",
    "    first_trait_count = trait_counts[select_trait]\n",
    "    temp = df.loc[df[select_trait] == True]\n",
    "    a_int_bs = { \n",
    "        trait: round(sum(temp[trait]) / first_trait_count, 4)\n",
    "        for trait in traits\n",
    "    }\n",
    "    return a_int_bs"
   ]
  },
  {
   "cell_type": "code",
   "execution_count": 52,
   "metadata": {},
   "outputs": [
    {
     "data": {
      "text/plain": [
       "{'independence': 9841,\n",
       " 'responsibility': 15865,\n",
       " 'imagination': 3894,\n",
       " 'tolerance': 14131,\n",
       " 'thrift': 6349,\n",
       " 'determination': 5947,\n",
       " 'faith': 7515,\n",
       " 'unselfishness': 4096,\n",
       " 'obedience': 6063,\n",
       " 'total': 24567}"
      ]
     },
     "execution_count": 52,
     "metadata": {},
     "output_type": "execute_result"
    }
   ],
   "source": [
    "build_trait_counts(select_traits(df, ['manners', 'hard work']), [ trait for trait in traits if trait not in ['manners', 'hard work'] ])"
   ]
  },
  {
   "cell_type": "code",
   "execution_count": null,
   "metadata": {},
   "outputs": [],
   "source": []
  }
 ],
 "metadata": {
  "kernelspec": {
   "display_name": "wv-env",
   "language": "python",
   "name": "wv-env"
  },
  "language_info": {
   "codemirror_mode": {
    "name": "ipython",
    "version": 3
   },
   "file_extension": ".py",
   "mimetype": "text/x-python",
   "name": "python",
   "nbconvert_exporter": "python",
   "pygments_lexer": "ipython3",
   "version": "3.7.7"
  }
 },
 "nbformat": 4,
 "nbformat_minor": 4
}
